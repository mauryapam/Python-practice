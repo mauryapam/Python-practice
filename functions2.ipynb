{
 "metadata": {
  "language_info": {
   "codemirror_mode": {
    "name": "ipython",
    "version": 3
   },
   "file_extension": ".py",
   "mimetype": "text/x-python",
   "name": "python",
   "nbconvert_exporter": "python",
   "pygments_lexer": "ipython3",
   "version": "3.8.5"
  },
  "orig_nbformat": 2,
  "kernelspec": {
   "name": "python38532bit374749efb38f477cb4958d35d1aeafcc",
   "display_name": "Python 3.8.5 32-bit"
  },
  "metadata": {
   "interpreter": {
    "hash": "8305b7019bff8fe70073ad69c88a7a6d738429936f640a51665687a5d5d103c8"
   }
  }
 },
 "nbformat": 4,
 "nbformat_minor": 2,
 "cells": [
  {
   "cell_type": "code",
   "execution_count": 1,
   "metadata": {},
   "outputs": [],
   "source": [
    "def user_choice():\n",
    "    ch=\"wrong\"\n",
    "    while ch.isdigit()== False:\n",
    "        ch= input(\"choose a number : \")\n",
    "    return int(ch)"
   ]
  },
  {
   "cell_type": "code",
   "execution_count": 3,
   "metadata": {},
   "outputs": [
    {
     "output_type": "execute_result",
     "data": {
      "text/plain": [
       "3"
      ]
     },
     "metadata": {},
     "execution_count": 3
    }
   ],
   "source": [
    "user_choice()"
   ]
  },
  {
   "cell_type": "code",
   "execution_count": 7,
   "metadata": {},
   "outputs": [],
   "source": [
    "def user_choice():\n",
    "    ch=\"wrong\"\n",
    "    while ch.isdigit()== False:\n",
    "        ch= input(\"choose a number : \")\n",
    "        if ch.isdigit== False:\n",
    "            clear_output()\n",
    "            print(\" enter a valid number!!\")\n",
    "    return int(ch)"
   ]
  },
  {
   "cell_type": "code",
   "execution_count": 15,
   "metadata": {},
   "outputs": [],
   "source": [
    "from IPython.display import clear_output"
   ]
  },
  {
   "cell_type": "code",
   "execution_count": null,
   "metadata": {},
   "outputs": [],
   "source": [
    "def user_choice():\n",
    "    ch=\"wrong\"\n",
    "    while ch not in [0,1,2]:\n",
    "        ch= input(\"choose a number[0,1,2] : \")\n",
    "        if ch not in [0,1,2]:\n",
    "            clear_output()\n",
    "            print(\" enter a valid number!!\")\n",
    "    return int(ch)\n"
   ]
  },
  {
   "cell_type": "code",
   "execution_count": 8,
   "metadata": {},
   "outputs": [],
   "source": [
    "game_list= [\"hi\",\"bye\",0]\n"
   ]
  },
  {
   "cell_type": "code",
   "execution_count": 16,
   "metadata": {},
   "outputs": [],
   "source": [
    "def display_game(game_list):\n",
    "    print(\" current list : \",game_list)\n"
   ]
  },
  {
   "cell_type": "code",
   "execution_count": 10,
   "metadata": {},
   "outputs": [
    {
     "output_type": "stream",
     "name": "stdout",
     "text": [
      " current list :  ['hi', 'bye', 0]\n"
     ]
    }
   ],
   "source": [
    "display_game(game_list)"
   ]
  },
  {
   "cell_type": "code",
   "execution_count": 17,
   "metadata": {},
   "outputs": [],
   "source": [
    "def pos_choice():\n",
    "    choice= \"wrong\"\n",
    "\n",
    "    while choice not in [0,1,2]:\n",
    "        choice = input(\" Enter a position to replace (0,1,2) :\")\n",
    "        if choice not in [0,1,2]:\n",
    "            clear_output()\n",
    "            print(\"Enter Valid position \")\n",
    "    return int(choice)"
   ]
  },
  {
   "cell_type": "code",
   "execution_count": 18,
   "metadata": {},
   "outputs": [],
   "source": [
    "def replace_choice(game_list, pos):\n",
    "    user_choice = input(\"Enter a string \")\n",
    "    game_list[pos]= user_choice\n",
    "    return game_list\n",
    "    "
   ]
  },
  {
   "cell_type": "code",
   "execution_count": 19,
   "metadata": {},
   "outputs": [],
   "source": [
    "def gameon_choice():\n",
    "    choice= \"wrong\"\n",
    "    while choice not in [\"y\",\"n\"]:\n",
    "        choice = input(\"wanna play again ? y/n \")\n",
    "        if choice not in [\"y\", \"n\"]:\n",
    "            clear_output()\n",
    "            print(\"Enter a valid answer\")\n",
    "    if choice==\"y\":\n",
    "        return True\n",
    "    else:\n",
    "        return False\n",
    "        "
   ]
  },
  {
   "cell_type": "code",
   "execution_count": 3,
   "metadata": {},
   "outputs": [
    {
     "output_type": "error",
     "ename": "ImportError",
     "evalue": "cannot import name 'clear_output' from 'IPython' (C:\\Users\\skt\\AppData\\Roaming\\Python\\Python38\\site-packages\\IPython\\__init__.py)",
     "traceback": [
      "\u001b[1;31m---------------------------------------------------------------------------\u001b[0m",
      "\u001b[1;31mImportError\u001b[0m                               Traceback (most recent call last)",
      "\u001b[1;32m<ipython-input-3-7d99dca8f751>\u001b[0m in \u001b[0;36m<module>\u001b[1;34m\u001b[0m\n\u001b[1;32m----> 1\u001b[1;33m \u001b[1;32mfrom\u001b[0m \u001b[0mIPython\u001b[0m \u001b[1;32mimport\u001b[0m \u001b[0mclear_output\u001b[0m\u001b[1;33m\u001b[0m\u001b[1;33m\u001b[0m\u001b[0m\n\u001b[0m",
      "\u001b[1;31mImportError\u001b[0m: cannot import name 'clear_output' from 'IPython' (C:\\Users\\skt\\AppData\\Roaming\\Python\\Python38\\site-packages\\IPython\\__init__.py)"
     ]
    }
   ],
   "source": [
    "from IPython import clear_output"
   ]
  },
  {
   "cell_type": "code",
   "execution_count": 1,
   "metadata": {},
   "outputs": [
    {
     "output_type": "error",
     "ename": "NameError",
     "evalue": "name 'clear_output' is not defined",
     "traceback": [
      "\u001b[1;31m---------------------------------------------------------------------------\u001b[0m",
      "\u001b[1;31mNameError\u001b[0m                                 Traceback (most recent call last)",
      "\u001b[1;32m<ipython-input-1-fd3c52b00e4b>\u001b[0m in \u001b[0;36m<module>\u001b[1;34m\u001b[0m\n\u001b[0;32m      2\u001b[0m \u001b[0mgame_list\u001b[0m \u001b[1;33m=\u001b[0m\u001b[1;33m[\u001b[0m\u001b[1;36m0\u001b[0m\u001b[1;33m,\u001b[0m\u001b[1;36m1\u001b[0m\u001b[1;33m,\u001b[0m\u001b[1;36m2\u001b[0m\u001b[1;33m]\u001b[0m\u001b[1;33m\u001b[0m\u001b[1;33m\u001b[0m\u001b[0m\n\u001b[0;32m      3\u001b[0m \u001b[1;32mwhile\u001b[0m \u001b[0mgame_on\u001b[0m\u001b[1;33m:\u001b[0m\u001b[1;33m\u001b[0m\u001b[1;33m\u001b[0m\u001b[0m\n\u001b[1;32m----> 4\u001b[1;33m     \u001b[0mclear_output\u001b[0m\u001b[1;33m(\u001b[0m\u001b[1;33m)\u001b[0m\u001b[1;33m\u001b[0m\u001b[1;33m\u001b[0m\u001b[0m\n\u001b[0m\u001b[0;32m      5\u001b[0m     \u001b[0mdisplay_game\u001b[0m\u001b[1;33m(\u001b[0m\u001b[0mgame_list\u001b[0m\u001b[1;33m)\u001b[0m\u001b[1;33m\u001b[0m\u001b[1;33m\u001b[0m\u001b[0m\n\u001b[0;32m      6\u001b[0m     \u001b[0mposition\u001b[0m\u001b[1;33m=\u001b[0m \u001b[0mpos_choice\u001b[0m\u001b[1;33m(\u001b[0m\u001b[1;33m)\u001b[0m\u001b[1;33m\u001b[0m\u001b[1;33m\u001b[0m\u001b[0m\n",
      "\u001b[1;31mNameError\u001b[0m: name 'clear_output' is not defined"
     ]
    }
   ],
   "source": [
    "game_on = True\n",
    "game_list =[0,1,2]\n",
    "while game_on:\n",
    "    clear_output()\n",
    "    display_game(game_list)\n",
    "    position= pos_choice()\n",
    "    game_list= replace_choice(game_list, position)\n",
    "    clear_output()\n",
    "    display_game(game_list)\n",
    "\n",
    "    game_on= gameon_choice()"
   ]
  },
  {
   "cell_type": "code",
   "execution_count": null,
   "metadata": {},
   "outputs": [],
   "source": []
  }
 ]
}