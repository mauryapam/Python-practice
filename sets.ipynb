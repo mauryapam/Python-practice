{
 "metadata": {
  "language_info": {
   "codemirror_mode": {
    "name": "ipython",
    "version": 3
   },
   "file_extension": ".py",
   "mimetype": "text/x-python",
   "name": "python",
   "nbconvert_exporter": "python",
   "pygments_lexer": "ipython3",
   "version": "3.8.5-final"
  },
  "orig_nbformat": 2,
  "kernelspec": {
   "name": "python38532bit374749efb38f477cb4958d35d1aeafcc",
   "display_name": "Python 3.8.5 32-bit"
  },
  "metadata": {
   "interpreter": {
    "hash": "8305b7019bff8fe70073ad69c88a7a6d738429936f640a51665687a5d5d103c8"
   }
  }
 },
 "nbformat": 4,
 "nbformat_minor": 2,
 "cells": [
  {
   "cell_type": "code",
   "execution_count": 1,
   "metadata": {},
   "outputs": [
    {
     "output_type": "stream",
     "name": "stdout",
     "text": [
      "{'a', 's', 'w', 'p'}\n"
     ]
    }
   ],
   "source": [
    "setA={\"s\",\"w\",\"a\",\"p\"}\n",
    "print(setA)"
   ]
  },
  {
   "cell_type": "code",
   "execution_count": 2,
   "metadata": {},
   "outputs": [
    {
     "output_type": "stream",
     "name": "stdout",
     "text": [
      "<class 'set'>\n{True, 'pooja', 'MCA', 'maurya', 31}\n"
     ]
    }
   ],
   "source": [
    "setB={\"pooja\", 31, True, \"MCA\"}\n",
    "print(type(setB))\n",
    "setB.add(\"maurya\")\n",
    "print(setB)"
   ]
  },
  {
   "cell_type": "code",
   "execution_count": 3,
   "metadata": {},
   "outputs": [],
   "source": [
    "setB.update(\"hi\")"
   ]
  },
  {
   "cell_type": "code",
   "execution_count": 4,
   "metadata": {},
   "outputs": [
    {
     "output_type": "stream",
     "name": "stdout",
     "text": [
      "{True, 'h', 'i', 'pooja', 'MCA', 'maurya', 31}\n"
     ]
    }
   ],
   "source": [
    "print(setB)"
   ]
  },
  {
   "cell_type": "code",
   "execution_count": null,
   "metadata": {},
   "outputs": [],
   "source": []
  }
 ]
}