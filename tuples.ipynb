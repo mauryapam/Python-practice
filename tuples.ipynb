{
 "metadata": {
  "language_info": {
   "codemirror_mode": {
    "name": "ipython",
    "version": 3
   },
   "file_extension": ".py",
   "mimetype": "text/x-python",
   "name": "python",
   "nbconvert_exporter": "python",
   "pygments_lexer": "ipython3",
   "version": "3.8.5-final"
  },
  "orig_nbformat": 2,
  "kernelspec": {
   "name": "python38532bit374749efb38f477cb4958d35d1aeafcc",
   "display_name": "Python 3.8.5 32-bit"
  },
  "metadata": {
   "interpreter": {
    "hash": "8305b7019bff8fe70073ad69c88a7a6d738429936f640a51665687a5d5d103c8"
   }
  }
 },
 "nbformat": 4,
 "nbformat_minor": 2,
 "cells": [
  {
   "cell_type": "code",
   "execution_count": 1,
   "metadata": {},
   "outputs": [
    {
     "output_type": "stream",
     "name": "stdout",
     "text": [
      "('a', 'b', 'c')\n"
     ]
    }
   ],
   "source": [
    "atup= (\"a\", \"b\", \"c\")\n",
    "print(atup)"
   ]
  },
  {
   "cell_type": "code",
   "execution_count": 1,
   "metadata": {},
   "outputs": [
    {
     "output_type": "stream",
     "name": "stdout",
     "text": [
      "('pooja', 'maurya', 31)\n"
     ]
    }
   ],
   "source": [
    "mytuple=tuple((\"pooja\", \"maurya\", 31))\n",
    "print(mytuple)"
   ]
  },
  {
   "cell_type": "code",
   "execution_count": 2,
   "metadata": {},
   "outputs": [
    {
     "output_type": "stream",
     "name": "stdout",
     "text": [
      "('hello',)\n"
     ]
    }
   ],
   "source": [
    "onetuple=(\"hello\",)\n",
    "print(onetuple)"
   ]
  },
  {
   "cell_type": "code",
   "execution_count": 3,
   "metadata": {},
   "outputs": [
    {
     "output_type": "stream",
     "name": "stdout",
     "text": [
      "('pooja', 31, True)\n"
     ]
    }
   ],
   "source": [
    "example=(\"pooja\",31, True)\n",
    "print(example)"
   ]
  },
  {
   "cell_type": "code",
   "execution_count": 4,
   "metadata": {},
   "outputs": [
    {
     "output_type": "stream",
     "name": "stdout",
     "text": [
      "<class 'tuple'>\n"
     ]
    }
   ],
   "source": [
    "print(type(example))"
   ]
  },
  {
   "cell_type": "code",
   "execution_count": 5,
   "metadata": {},
   "outputs": [
    {
     "output_type": "stream",
     "name": "stdout",
     "text": [
      "maurya\n31\n"
     ]
    }
   ],
   "source": [
    "print(mytuple[1])\n",
    "print(mytuple[-1])"
   ]
  },
  {
   "cell_type": "code",
   "execution_count": 7,
   "metadata": {},
   "outputs": [
    {
     "output_type": "stream",
     "name": "stdout",
     "text": [
      "['apple', 'mango', 'strawberry', 'kiwi']\n"
     ]
    }
   ],
   "source": [
    "#to create changes in a tuple - convert it into a list then make changes and reconvert into tuple\n",
    "A= (\"apple\", \"mango\", \"banana\")\n",
    "newlist= list(A)\n",
    "newlist[2]= \"kiwi\"\n",
    "newlist.insert(2,\"strawberry\")\n",
    "A= tuple(newlist)\n",
    "print(newlist)"
   ]
  },
  {
   "cell_type": "code",
   "execution_count": 8,
   "metadata": {},
   "outputs": [
    {
     "output_type": "stream",
     "name": "stdout",
     "text": [
      "red\nyellow\n"
     ]
    }
   ],
   "source": [
    "colors=[\"red\", \"yellow\", \"green\"]\n",
    "(r,y,g)=colors\n",
    "print(r)\n",
    "print(y)"
   ]
  },
  {
   "cell_type": "code",
   "execution_count": 9,
   "metadata": {},
   "outputs": [
    {
     "output_type": "stream",
     "name": "stdout",
     "text": [
      "red\nyellow\n['green', 'grey']\n"
     ]
    }
   ],
   "source": [
    "colors=[\"red\", \"yellow\", \"green\", \"grey\"]\n",
    "(r,y,*g)=colors\n",
    "print(r)\n",
    "print(y)\n",
    "print(g)"
   ]
  },
  {
   "cell_type": "code",
   "execution_count": 10,
   "metadata": {},
   "outputs": [
    {
     "output_type": "stream",
     "name": "stdout",
     "text": [
      "red\nyellow\ngreen\ngrey\n"
     ]
    }
   ],
   "source": [
    "for i in range(len(colors)):\n",
    "    print(colors[i])"
   ]
  },
  {
   "cell_type": "code",
   "execution_count": 11,
   "metadata": {},
   "outputs": [
    {
     "output_type": "stream",
     "name": "stdout",
     "text": [
      "['red', 'yellow', 'green', 'grey', 'rose', 'daisy', 'sunflower']\n"
     ]
    }
   ],
   "source": [
    "flowers=[\"rose\", \"daisy\", \"sunflower\"]\n",
    "favs= colors+flowers\n",
    "print(favs)\n"
   ]
  },
  {
   "cell_type": "code",
   "execution_count": 12,
   "metadata": {},
   "outputs": [
    {
     "output_type": "stream",
     "name": "stdout",
     "text": [
      "['red', 'yellow', 'green', 'grey', 'rose', 'daisy', 'sunflower', 'red', 'yellow', 'green', 'grey', 'rose', 'daisy', 'sunflower']\n"
     ]
    }
   ],
   "source": [
    "new= favs*2\n",
    "print(new)"
   ]
  },
  {
   "cell_type": "code",
   "execution_count": 13,
   "metadata": {},
   "outputs": [
    {
     "output_type": "stream",
     "name": "stdout",
     "text": [
      "2\n"
     ]
    }
   ],
   "source": [
    "print(new.count(\"red\"))"
   ]
  },
  {
   "cell_type": "code",
   "execution_count": 14,
   "metadata": {},
   "outputs": [
    {
     "output_type": "stream",
     "name": "stdout",
     "text": [
      "0\n"
     ]
    }
   ],
   "source": [
    "print(new.index(\"red\"))"
   ]
  },
  {
   "cell_type": "code",
   "execution_count": 15,
   "metadata": {},
   "outputs": [
    {
     "output_type": "stream",
     "name": "stdout",
     "text": [
      "['red', 'yellow', 'green', 'grey', 'rose', 'daisy', 'sunflower', 'red', 'yellow', 'green', 'grey', 'rose', 'daisy']\n"
     ]
    }
   ],
   "source": [
    "new.pop()\n",
    "print(new)"
   ]
  },
  {
   "cell_type": "code",
   "execution_count": 18,
   "metadata": {},
   "outputs": [
    {
     "output_type": "error",
     "ename": "NameError",
     "evalue": "name 'new' is not defined",
     "traceback": [
      "\u001b[1;31m---------------------------------------------------------------------------\u001b[0m",
      "\u001b[1;31mNameError\u001b[0m                                 Traceback (most recent call last)",
      "\u001b[1;32m<ipython-input-18-1255206bff2b>\u001b[0m in \u001b[0;36m<module>\u001b[1;34m\u001b[0m\n\u001b[1;32m----> 1\u001b[1;33m \u001b[1;32mdel\u001b[0m \u001b[0mnew\u001b[0m\u001b[1;33m\u001b[0m\u001b[1;33m\u001b[0m\u001b[0m\n\u001b[0m\u001b[0;32m      2\u001b[0m \u001b[0mprint\u001b[0m\u001b[1;33m(\u001b[0m\u001b[0mnew\u001b[0m\u001b[1;33m)\u001b[0m\u001b[1;33m\u001b[0m\u001b[1;33m\u001b[0m\u001b[0m\n",
      "\u001b[1;31mNameError\u001b[0m: name 'new' is not defined"
     ]
    }
   ],
   "source": [
    "del new\n",
    "print(new)"
   ]
  },
  {
   "cell_type": "code",
   "execution_count": null,
   "metadata": {},
   "outputs": [],
   "source": []
  }
 ]
}