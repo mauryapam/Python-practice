{
 "metadata": {
  "language_info": {
   "codemirror_mode": {
    "name": "ipython",
    "version": 3
   },
   "file_extension": ".py",
   "mimetype": "text/x-python",
   "name": "python",
   "nbconvert_exporter": "python",
   "pygments_lexer": "ipython3",
   "version": "3.8.5"
  },
  "orig_nbformat": 2,
  "kernelspec": {
   "name": "python38532bit374749efb38f477cb4958d35d1aeafcc",
   "display_name": "Python 3.8.5 32-bit"
  },
  "metadata": {
   "interpreter": {
    "hash": "8305b7019bff8fe70073ad69c88a7a6d738429936f640a51665687a5d5d103c8"
   }
  }
 },
 "nbformat": 4,
 "nbformat_minor": 2,
 "cells": [
  {
   "cell_type": "code",
   "execution_count": 1,
   "metadata": {},
   "outputs": [
    {
     "output_type": "stream",
     "name": "stdout",
     "text": [
      "name is pooja\nname is yogi\n"
     ]
    }
   ],
   "source": [
    "class Myclass:\n",
    "    def __init__(self, name):\n",
    "        self.name= name\n",
    "    def names(self):\n",
    "        print(\"name is \"+self.name)\n",
    "p1= Myclass(\"pooja\")\n",
    "p1.names()\n",
    "p1.name=\"yogi\"\n",
    "p1.names()"
   ]
  },
  {
   "cell_type": "code",
   "execution_count": 2,
   "metadata": {},
   "outputs": [],
   "source": [
    "class Student(Myclass):\n",
    "    pass"
   ]
  },
  {
   "cell_type": "code",
   "execution_count": 3,
   "metadata": {},
   "outputs": [
    {
     "output_type": "stream",
     "name": "stdout",
     "text": [
      "name is khush\n"
     ]
    }
   ],
   "source": [
    "x= Student(\"khush\")\n",
    "x.names()"
   ]
  },
  {
   "cell_type": "code",
   "execution_count": 24,
   "metadata": {},
   "outputs": [],
   "source": [
    "class Line:\n",
    "    \n",
    "    def __init__(self, coor1, coor2):\n",
    "        self.coor1= coor1\n",
    "        self.coor2= coor2\n",
    "    def distance(self):\n",
    "        x1,y1= self.coor1\n",
    "        x2,y2= self.coor2\n",
    "        return ((x2-x1)**2+(y2-y1)**2)**0.5\n",
    "    def slope(self):\n",
    "        x1,y1= self.coor1\n",
    "        x2,y2= self.coor2\n",
    "       \n",
    "        dx= x2-x1\n",
    "        dy= y2-y1\n",
    "        m= dy/dx\n",
    "        return m\n"
   ]
  },
  {
   "cell_type": "code",
   "execution_count": 25,
   "metadata": {},
   "outputs": [],
   "source": [
    "coordinate1= (3,2)\n",
    "coordinate2= (8,10)\n",
    "li= Line(coordinate1, coordinate2)"
   ]
  },
  {
   "cell_type": "code",
   "execution_count": 26,
   "metadata": {},
   "outputs": [
    {
     "output_type": "execute_result",
     "data": {
      "text/plain": [
       "9.433981132056603"
      ]
     },
     "metadata": {},
     "execution_count": 26
    }
   ],
   "source": [
    "li.distance()"
   ]
  },
  {
   "cell_type": "code",
   "execution_count": 27,
   "metadata": {},
   "outputs": [
    {
     "output_type": "execute_result",
     "data": {
      "text/plain": [
       "1.6"
      ]
     },
     "metadata": {},
     "execution_count": 27
    }
   ],
   "source": [
    "li.slope()"
   ]
  },
  {
   "cell_type": "code",
   "execution_count": 28,
   "metadata": {},
   "outputs": [],
   "source": [
    "class Cylinder:\n",
    "    def __init__(self, height=1, radius=1):\n",
    "        self.height= height\n",
    "        self.radius= radius\n",
    "    def volume(self):\n",
    "        radius=self.radius\n",
    "        height=self.height\n",
    "        return 3.14*(radius**2)*height\n",
    "    def surface_area(self):\n",
    "        radius=self.radius\n",
    "        height=self.height\n",
    "        \n",
    "        return 2*3.14*radius*height\n"
   ]
  },
  {
   "cell_type": "code",
   "execution_count": 29,
   "metadata": {},
   "outputs": [],
   "source": [
    "c= Cylinder(2,3)"
   ]
  },
  {
   "cell_type": "code",
   "execution_count": 30,
   "metadata": {},
   "outputs": [
    {
     "output_type": "execute_result",
     "data": {
      "text/plain": [
       "56.52"
      ]
     },
     "metadata": {},
     "execution_count": 30
    }
   ],
   "source": [
    "c.volume()"
   ]
  },
  {
   "cell_type": "code",
   "execution_count": 31,
   "metadata": {},
   "outputs": [
    {
     "output_type": "execute_result",
     "data": {
      "text/plain": [
       "37.68"
      ]
     },
     "metadata": {},
     "execution_count": 31
    }
   ],
   "source": [
    "c.surface_area()"
   ]
  },
  {
   "cell_type": "code",
   "execution_count": 15,
   "metadata": {},
   "outputs": [],
   "source": [
    "class Account:\n",
    "    def __init__(self, owner, balance):\n",
    "        self.owner= owner\n",
    "        self.balance= balance\n",
    "\n",
    "        print(\"Account owner: \",owner )\n",
    "        print(\"Account balance: \",balance)\n",
    "\n",
    "    def deposit(self, amount):\n",
    "        self.balance+= amount\n",
    "        return \"Deposit Accepted\"\n",
    "\n",
    "    def withdraw(self, amount):\n",
    "        \n",
    "        if self.balance>= amount:\n",
    "\n",
    "            self.balance-=  amount\n",
    "            return \"Amount withdrawn\"\n",
    "        else:\n",
    "            return \"Insufficient Balance\"\n"
   ]
  },
  {
   "cell_type": "code",
   "execution_count": 16,
   "metadata": {},
   "outputs": [
    {
     "output_type": "stream",
     "name": "stdout",
     "text": [
      "Account owner:  jose\nAccount balance:  100\n"
     ]
    }
   ],
   "source": [
    "acc1= Account(\"jose\", 100)"
   ]
  },
  {
   "cell_type": "code",
   "execution_count": 17,
   "metadata": {},
   "outputs": [
    {
     "output_type": "execute_result",
     "data": {
      "text/plain": [
       "'jose'"
      ]
     },
     "metadata": {},
     "execution_count": 17
    }
   ],
   "source": [
    "acc1.owner"
   ]
  },
  {
   "cell_type": "code",
   "execution_count": 18,
   "metadata": {},
   "outputs": [
    {
     "output_type": "execute_result",
     "data": {
      "text/plain": [
       "100"
      ]
     },
     "metadata": {},
     "execution_count": 18
    }
   ],
   "source": [
    "acc1.balance"
   ]
  },
  {
   "cell_type": "code",
   "execution_count": 19,
   "metadata": {},
   "outputs": [
    {
     "output_type": "execute_result",
     "data": {
      "text/plain": [
       "'Deposit Accepted'"
      ]
     },
     "metadata": {},
     "execution_count": 19
    }
   ],
   "source": [
    "acc1.deposit(50)"
   ]
  },
  {
   "cell_type": "code",
   "execution_count": 20,
   "metadata": {},
   "outputs": [
    {
     "output_type": "execute_result",
     "data": {
      "text/plain": [
       "'Amount withdrawn'"
      ]
     },
     "metadata": {},
     "execution_count": 20
    }
   ],
   "source": [
    "acc1.withdraw(75)"
   ]
  },
  {
   "cell_type": "code",
   "execution_count": null,
   "metadata": {},
   "outputs": [],
   "source": [
    "\n"
   ]
  }
 ]
}